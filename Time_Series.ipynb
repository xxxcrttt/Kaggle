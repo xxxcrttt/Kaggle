{
  "nbformat": 4,
  "nbformat_minor": 0,
  "metadata": {
    "colab": {
      "provenance": [],
      "authorship_tag": "ABX9TyPDWavwRh2pkOao0zAE6WXA",
      "include_colab_link": true
    },
    "kernelspec": {
      "name": "python3",
      "display_name": "Python 3"
    },
    "language_info": {
      "name": "python"
    }
  },
  "cells": [
    {
      "cell_type": "markdown",
      "metadata": {
        "id": "view-in-github",
        "colab_type": "text"
      },
      "source": [
        "<a href=\"https://colab.research.google.com/github/xxxcrttt/Kaggle/blob/main/Time_Series.ipynb\" target=\"_parent\"><img src=\"https://colab.research.google.com/assets/colab-badge.svg\" alt=\"Open In Colab\"/></a>"
      ]
    },
    {
      "cell_type": "code",
      "execution_count": 3,
      "metadata": {
        "id": "xK3o_VaZL-UI"
      },
      "outputs": [],
      "source": [
        "# import libraries\n",
        "import numpy as np\n",
        "import pandas as pd\n",
        "from random import gauss\n",
        "from pandas.plotting import autocorrelation_plot \n",
        "import warnings \n",
        "import itertools\n",
        "from random import random \n",
        "\n",
        "import statsmodels.formula.api as smf \n",
        "import statsmodels.api as sm \n",
        "from statsmodels.graphics.tsaplots import plot_acf, plot_pacf\n",
        "from statsmodels.tsa.ar_model import AR\n",
        "from statsmodels.tsa.seasonal import seasonal_decompose\n",
        "from statsmodels.tsa.stattools import adfuller\n",
        "\n",
        "import matplotlib.pyplot as plt \n",
        "import seaborn as sns  "
      ]
    },
    {
      "cell_type": "markdown",
      "source": [
        "## Ground work \n",
        "\n",
        "**Time Series** -- a sequence of data points / observations recorded at different time intervals, which are frequently but not always: \n",
        "\n",
        "```\n",
        "{Xt} t = 1, ..., T\n",
        "```\n",
        "\n",
        "A time series (discrete) realization of a (continuous) stochastic process generating the data and underlying the reason that we can infer from the former about the latter is the Kolmogorov extension theorem. \n",
        "\n",
        "生成数据的(连续)随机过程的时间序列(离散)实现以及可以从前者推断后者的根本原因是柯尔莫洛夫拓展定理。\n",
        "\n",
        "**概率论公理**\n",
        "1. 非负性: 对于任意事件 $P(A) >= 0$, 任意事件的概率都可以用 0-1 区间上的一个实数来表示\n",
        "2. 归一化: $P(Ω) = 1$, 整体样本集合中的某个基本事件发生的概率为1 == 在样本集合之外已经不存在基本事件了\n",
        "3. 可加性: 任意两两不相交事件 E1, E2, ... 的可数序列满足:\n",
        " $$P(E_{1}\\cup E_{2}\\cup \\cdots )=\\sum P(E_{i})$$\n",
        "不相交子集的并的事件集合的概率为子集的概率的和 -- 如果存在子集之间的重叠 这一关系不成立\n",
        "\n",
        "公式：\n",
        "1. $$P(A\\cup B)=P(A)+P(B)-P(A\\cap B)$$\n",
        "2. $$P(\\Omega -E)=1-P(E)$$\n",
        "3. $$P(A\\cap B)=P(A)\\cdot P(B\\vert A)$$\n",
        "4. 贝叶斯定理 A 和 B 是独立的当且仅当：$$P(A\\cap B)=P(A)\\cdot P(B)$$"
      ],
      "metadata": {
        "id": "mNEUJxS7Nn3q"
      }
    },
    {
      "cell_type": "markdown",
      "source": [
        "## Patterns \n",
        "seperate the time series into components with easily understandable characteristics: \n",
        "$$Xt = Tt + St + Ct + It$$\n",
        "\n",
        "* Tt: The trend shows a general direction of the time series data over a long period of time. It represents a long-term progression of the series(secular variation).    \n",
        "显示了时间序列数据在很长一段时间内的大体方向 -- 它代表了一系列的长期变化\n",
        "* St: the seasonal component with fixed and known period. It is observed when there is a distinct repeated pattern observed between regular intervals due to seasonal factors -- annual, monthly or weekly.   \n",
        "具有固定且已知周期的季节性pattern，当由于季节性因素而在定期间隔之间观察到的明显的重复模式，比如日常用电量 or 季节性商品的年销售额\n",
        "* Ct: (optical) cyclical component is a repetitive pattern which does not occur at fixed intervals -- usually observed in an economic context like business cycles.  \n",
        "周期性成分是一种重复模式，他不会以固定的时间间隔发生 -- 通常是在商业周期等经济环境中被观察到\n",
        "* It: the irregular component (residual) consists of the fluctuations in the time series that are observed after removing trend and seasonal / cyclical variations.   \n",
        "残差由去除趋势和季节性、周期性变化后观察到的时间序列波动组成\n",
        "\n",
        "**multiplication decomposition**:\n",
        "$$Xt = Tt * St * It$$ is equivalent to:\n",
        "$$log Xt = log Tt + log St + log It $$\n"
      ],
      "metadata": {
        "id": "kA5RDO8PVKxd"
      }
    },
    {
      "cell_type": "code",
      "source": [
        "help(seasonal_decompose)"
      ],
      "metadata": {
        "colab": {
          "base_uri": "https://localhost:8080/"
        },
        "id": "OV6Q1VQSPkz1",
        "outputId": "9cc43e38-fdbe-42a5-fe37-81173b5c985b"
      },
      "execution_count": 4,
      "outputs": [
        {
          "output_type": "stream",
          "name": "stdout",
          "text": [
            "Help on function seasonal_decompose in module statsmodels.tsa.seasonal:\n",
            "\n",
            "seasonal_decompose(x, model='additive', filt=None, period=None, two_sided=True, extrapolate_trend=0)\n",
            "    Seasonal decomposition using moving averages.\n",
            "    \n",
            "    Parameters\n",
            "    ----------\n",
            "    x : array_like\n",
            "        Time series. If 2d, individual series are in columns. x must contain 2\n",
            "        complete cycles.\n",
            "    model : {\"additive\", \"multiplicative\"}, optional\n",
            "        Type of seasonal component. Abbreviations are accepted.\n",
            "    filt : array_like, optional\n",
            "        The filter coefficients for filtering out the seasonal component.\n",
            "        The concrete moving average method used in filtering is determined by\n",
            "        two_sided.\n",
            "    period : int, optional\n",
            "        Period of the series. Must be used if x is not a pandas object or if\n",
            "        the index of x does not have  a frequency. Overrides default\n",
            "        periodicity of x if x is a pandas object with a timeseries index.\n",
            "    two_sided : bool, optional\n",
            "        The moving average method used in filtering.\n",
            "        If True (default), a centered moving average is computed using the\n",
            "        filt. If False, the filter coefficients are for past values only.\n",
            "    extrapolate_trend : int or 'freq', optional\n",
            "        If set to > 0, the trend resulting from the convolution is\n",
            "        linear least-squares extrapolated on both ends (or the single one\n",
            "        if two_sided is False) considering this many (+1) closest points.\n",
            "        If set to 'freq', use `freq` closest points. Setting this parameter\n",
            "        results in no NaN values in trend or resid components.\n",
            "    \n",
            "    Returns\n",
            "    -------\n",
            "    DecomposeResult\n",
            "        A object with seasonal, trend, and resid attributes.\n",
            "    \n",
            "    See Also\n",
            "    --------\n",
            "    statsmodels.tsa.filters.bk_filter.bkfilter\n",
            "        Baxter-King filter.\n",
            "    statsmodels.tsa.filters.cf_filter.cffilter\n",
            "        Christiano-Fitzgerald asymmetric, random walk filter.\n",
            "    statsmodels.tsa.filters.hp_filter.hpfilter\n",
            "        Hodrick-Prescott filter.\n",
            "    statsmodels.tsa.filters.convolution_filter\n",
            "        Linear filtering via convolution.\n",
            "    statsmodels.tsa.seasonal.STL\n",
            "        Season-Trend decomposition using LOESS.\n",
            "    \n",
            "    Notes\n",
            "    -----\n",
            "    This is a naive decomposition. More sophisticated methods should\n",
            "    be preferred.\n",
            "    \n",
            "    The additive model is Y[t] = T[t] + S[t] + e[t]\n",
            "    \n",
            "    The multiplicative model is Y[t] = T[t] * S[t] * e[t]\n",
            "    \n",
            "    The results are obtained by first estimating the trend by applying\n",
            "    a convolution filter to the data. The trend is then removed from the\n",
            "    series and the average of this de-trended series for each period is\n",
            "    the returned seasonal component.\n",
            "\n"
          ]
        }
      ]
    }
  ]
}